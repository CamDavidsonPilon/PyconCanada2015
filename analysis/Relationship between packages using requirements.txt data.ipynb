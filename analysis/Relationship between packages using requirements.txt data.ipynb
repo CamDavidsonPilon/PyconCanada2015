{
 "cells": [
  {
   "cell_type": "code",
   "execution_count": 1,
   "metadata": {
    "collapsed": true
   },
   "outputs": [],
   "source": [
    "import pandas as pd"
   ]
  },
  {
   "cell_type": "code",
   "execution_count": 14,
   "metadata": {
    "collapsed": false
   },
   "outputs": [],
   "source": [
    "df = pd.read_csv('../scrapers/data/requirements_txt.psv', sep='|',\n",
    "                names=['repo', 'date', 'requirements'])"
   ]
  },
  {
   "cell_type": "code",
   "execution_count": 32,
   "metadata": {
    "collapsed": false,
    "scrolled": true
   },
   "outputs": [],
   "source": [
    "print df.shape\n",
    "df = df.dropna() # I need to clean this data better. \n",
    "print df.shape"
   ]
  },
  {
   "cell_type": "code",
   "execution_count": 36,
   "metadata": {
    "collapsed": false,
    "scrolled": true
   },
   "outputs": [],
   "source": [
    "latest_data = df.groupby('repo').max()"
   ]
  },
  {
   "cell_type": "code",
   "execution_count": 37,
   "metadata": {
    "collapsed": false
   },
   "outputs": [
    {
     "data": {
      "text/plain": [
       "(2232, 2)"
      ]
     },
     "execution_count": 37,
     "metadata": {},
     "output_type": "execute_result"
    }
   ],
   "source": [
    "latest_data.shape"
   ]
  },
  {
   "cell_type": "code",
   "execution_count": 39,
   "metadata": {
    "collapsed": false
   },
   "outputs": [],
   "source": [
    "from apriori import apriori"
   ]
  },
  {
   "cell_type": "code",
   "execution_count": 42,
   "metadata": {
    "collapsed": true
   },
   "outputs": [],
   "source": [
    "baskets = latest_data['requirements'].map(lambda s: s.split(',')).values"
   ]
  },
  {
   "cell_type": "code",
   "execution_count": 62,
   "metadata": {
    "collapsed": false
   },
   "outputs": [],
   "source": [
    "sorter = lambda r: r.bayesian_confidence/r.confidence*r.lift\n",
    "filterer = lambda r: r['bayesian_confidence'] > 0.3\n",
    "results = apriori(baskets, 30, max_k=3, filter_rule=filterer, sort_key=sorter)"
   ]
  },
  {
   "cell_type": "code",
   "execution_count": 63,
   "metadata": {
    "collapsed": false
   },
   "outputs": [
    {
     "data": {
      "text/plain": [
       "[{'antecedent_occurrences': 31,\n",
       "  'bayesian_confidence': 0.9145758385370777,\n",
       "  'confidence': 1.0,\n",
       "  'conviction': inf,\n",
       "  'lift': 72.0,\n",
       "  'occurrences': 31,\n",
       "  'other_items': ['psycopg2', 'django-smoketest'],\n",
       "  'start_items': ['django-statsd-mozilla'],\n",
       "  'subsequent_occurrences': 31,\n",
       "  'support': 0.013888888888888888},\n",
       " {'antecedent_occurrences': 31,\n",
       "  'bayesian_confidence': 0.9145758385370777,\n",
       "  'confidence': 1.0,\n",
       "  'conviction': inf,\n",
       "  'lift': 72.0,\n",
       "  'occurrences': 31,\n",
       "  'other_items': ['django-statsd-mozilla'],\n",
       "  'start_items': ['psycopg2', 'django-smoketest'],\n",
       "  'subsequent_occurrences': 31,\n",
       "  'support': 0.013888888888888888},\n",
       " {'antecedent_occurrences': 31,\n",
       "  'bayesian_confidence': 0.9145758385370777,\n",
       "  'confidence': 1.0,\n",
       "  'conviction': inf,\n",
       "  'lift': 72.0,\n",
       "  'occurrences': 31,\n",
       "  'other_items': ['django-smoketest', 'coverage'],\n",
       "  'start_items': ['django-statsd-mozilla'],\n",
       "  'subsequent_occurrences': 31,\n",
       "  'support': 0.013888888888888888},\n",
       " {'antecedent_occurrences': 31,\n",
       "  'bayesian_confidence': 0.9145758385370777,\n",
       "  'confidence': 1.0,\n",
       "  'conviction': inf,\n",
       "  'lift': 72.0,\n",
       "  'occurrences': 31,\n",
       "  'other_items': ['django-statsd-mozilla'],\n",
       "  'start_items': ['django-smoketest', 'coverage'],\n",
       "  'subsequent_occurrences': 31,\n",
       "  'support': 0.013888888888888888},\n",
       " {'antecedent_occurrences': 30,\n",
       "  'bayesian_confidence': 0.9120368826412372,\n",
       "  'confidence': 1.0,\n",
       "  'conviction': inf,\n",
       "  'lift': 72.00000000000001,\n",
       "  'occurrences': 30,\n",
       "  'other_items': ['django-statsd-mozilla'],\n",
       "  'start_items': ['django-smoketest', 'flake8'],\n",
       "  'subsequent_occurrences': 31,\n",
       "  'support': 0.013440860215053764},\n",
       " {'antecedent_occurrences': 30,\n",
       "  'bayesian_confidence': 0.9120368826412372,\n",
       "  'confidence': 1.0,\n",
       "  'conviction': inf,\n",
       "  'lift': 72.00000000000001,\n",
       "  'occurrences': 30,\n",
       "  'other_items': ['django-statsd-mozilla'],\n",
       "  'start_items': ['psycopg2', 'django-markwhat'],\n",
       "  'subsequent_occurrences': 31,\n",
       "  'support': 0.013440860215053764},\n",
       " {'antecedent_occurrences': 30,\n",
       "  'bayesian_confidence': 0.9120368826412372,\n",
       "  'confidence': 1.0,\n",
       "  'conviction': inf,\n",
       "  'lift': 72.00000000000001,\n",
       "  'occurrences': 30,\n",
       "  'other_items': ['django-statsd-mozilla'],\n",
       "  'start_items': ['six', 'django-smoketest'],\n",
       "  'subsequent_occurrences': 31,\n",
       "  'support': 0.013440860215053764},\n",
       " {'antecedent_occurrences': 30,\n",
       "  'bayesian_confidence': 0.9120368826412372,\n",
       "  'confidence': 1.0,\n",
       "  'conviction': inf,\n",
       "  'lift': 72.00000000000001,\n",
       "  'occurrences': 30,\n",
       "  'other_items': ['django-statsd-mozilla'],\n",
       "  'start_items': ['django-smoketest', 'pyflakes'],\n",
       "  'subsequent_occurrences': 31,\n",
       "  'support': 0.013440860215053764},\n",
       " {'antecedent_occurrences': 30,\n",
       "  'bayesian_confidence': 0.9120368826412372,\n",
       "  'confidence': 1.0,\n",
       "  'conviction': inf,\n",
       "  'lift': 72.00000000000001,\n",
       "  'occurrences': 30,\n",
       "  'other_items': ['django-statsd-mozilla'],\n",
       "  'start_items': ['statsd', 'django-smoketest'],\n",
       "  'subsequent_occurrences': 31,\n",
       "  'support': 0.013440860215053764},\n",
       " {'antecedent_occurrences': 30,\n",
       "  'bayesian_confidence': 0.9120368826412372,\n",
       "  'confidence': 1.0,\n",
       "  'conviction': inf,\n",
       "  'lift': 72.00000000000001,\n",
       "  'occurrences': 30,\n",
       "  'other_items': ['django-statsd-mozilla'],\n",
       "  'start_items': ['pep8', 'django-smoketest'],\n",
       "  'subsequent_occurrences': 31,\n",
       "  'support': 0.013440860215053764},\n",
       " {'antecedent_occurrences': 30,\n",
       "  'bayesian_confidence': 0.9120368826412372,\n",
       "  'confidence': 1.0,\n",
       "  'conviction': inf,\n",
       "  'lift': 72.00000000000001,\n",
       "  'occurrences': 30,\n",
       "  'other_items': ['django-statsd-mozilla'],\n",
       "  'start_items': ['django-markwhat', 'coverage'],\n",
       "  'subsequent_occurrences': 31,\n",
       "  'support': 0.013440860215053764},\n",
       " {'antecedent_occurrences': 31,\n",
       "  'bayesian_confidence': 0.8626685719662078,\n",
       "  'confidence': 0.967741935483871,\n",
       "  'conviction': 30.58333333333336,\n",
       "  'lift': 72.00000000000001,\n",
       "  'occurrences': 30,\n",
       "  'other_items': ['django-smoketest', 'flake8'],\n",
       "  'start_items': ['django-statsd-mozilla'],\n",
       "  'subsequent_occurrences': 30,\n",
       "  'support': 0.013440860215053764},\n",
       " {'antecedent_occurrences': 31,\n",
       "  'bayesian_confidence': 0.8626685719662078,\n",
       "  'confidence': 0.967741935483871,\n",
       "  'conviction': 30.58333333333336,\n",
       "  'lift': 72.00000000000001,\n",
       "  'occurrences': 30,\n",
       "  'other_items': ['psycopg2', 'django-markwhat'],\n",
       "  'start_items': ['django-statsd-mozilla'],\n",
       "  'subsequent_occurrences': 30,\n",
       "  'support': 0.013440860215053764},\n",
       " {'antecedent_occurrences': 31,\n",
       "  'bayesian_confidence': 0.8626685719662078,\n",
       "  'confidence': 0.967741935483871,\n",
       "  'conviction': 30.58333333333336,\n",
       "  'lift': 72.00000000000001,\n",
       "  'occurrences': 30,\n",
       "  'other_items': ['six', 'django-smoketest'],\n",
       "  'start_items': ['django-statsd-mozilla'],\n",
       "  'subsequent_occurrences': 30,\n",
       "  'support': 0.013440860215053764},\n",
       " {'antecedent_occurrences': 31,\n",
       "  'bayesian_confidence': 0.8626685719662078,\n",
       "  'confidence': 0.967741935483871,\n",
       "  'conviction': 30.58333333333336,\n",
       "  'lift': 72.00000000000001,\n",
       "  'occurrences': 30,\n",
       "  'other_items': ['django-smoketest', 'pyflakes'],\n",
       "  'start_items': ['django-statsd-mozilla'],\n",
       "  'subsequent_occurrences': 30,\n",
       "  'support': 0.013440860215053764},\n",
       " {'antecedent_occurrences': 31,\n",
       "  'bayesian_confidence': 0.8626685719662078,\n",
       "  'confidence': 0.967741935483871,\n",
       "  'conviction': 30.58333333333336,\n",
       "  'lift': 72.00000000000001,\n",
       "  'occurrences': 30,\n",
       "  'other_items': ['statsd', 'django-smoketest'],\n",
       "  'start_items': ['django-statsd-mozilla'],\n",
       "  'subsequent_occurrences': 30,\n",
       "  'support': 0.013440860215053764},\n",
       " {'antecedent_occurrences': 31,\n",
       "  'bayesian_confidence': 0.8626685719662078,\n",
       "  'confidence': 0.967741935483871,\n",
       "  'conviction': 30.58333333333336,\n",
       "  'lift': 72.00000000000001,\n",
       "  'occurrences': 30,\n",
       "  'other_items': ['pep8', 'django-smoketest'],\n",
       "  'start_items': ['django-statsd-mozilla'],\n",
       "  'subsequent_occurrences': 30,\n",
       "  'support': 0.013440860215053764},\n",
       " {'antecedent_occurrences': 31,\n",
       "  'bayesian_confidence': 0.8626685719662078,\n",
       "  'confidence': 0.967741935483871,\n",
       "  'conviction': 30.58333333333336,\n",
       "  'lift': 72.00000000000001,\n",
       "  'occurrences': 30,\n",
       "  'other_items': ['django-markwhat', 'coverage'],\n",
       "  'start_items': ['django-statsd-mozilla'],\n",
       "  'subsequent_occurrences': 30,\n",
       "  'support': 0.013440860215053764},\n",
       " {'antecedent_occurrences': 31,\n",
       "  'bayesian_confidence': 0.9145758385370777,\n",
       "  'confidence': 1.0,\n",
       "  'conviction': inf,\n",
       "  'lift': 69.75,\n",
       "  'occurrences': 31,\n",
       "  'other_items': ['django-smoketest'],\n",
       "  'start_items': ['django-statsd-mozilla'],\n",
       "  'subsequent_occurrences': 32,\n",
       "  'support': 0.013888888888888888},\n",
       " {'antecedent_occurrences': 31,\n",
       "  'bayesian_confidence': 0.9145758385370777,\n",
       "  'confidence': 1.0,\n",
       "  'conviction': inf,\n",
       "  'lift': 69.75,\n",
       "  'occurrences': 31,\n",
       "  'other_items': ['django-smoketest'],\n",
       "  'start_items': ['django-markwhat', 'raven'],\n",
       "  'subsequent_occurrences': 32,\n",
       "  'support': 0.013888888888888888}]"
      ]
     },
     "execution_count": 63,
     "metadata": {},
     "output_type": "execute_result"
    }
   ],
   "source": [
    "results[:20]"
   ]
  },
  {
   "cell_type": "code",
   "execution_count": null,
   "metadata": {
    "collapsed": true
   },
   "outputs": [],
   "source": []
  },
  {
   "cell_type": "code",
   "execution_count": null,
   "metadata": {
    "collapsed": true
   },
   "outputs": [],
   "source": []
  }
 ],
 "metadata": {
  "kernelspec": {
   "display_name": "Python 2",
   "language": "python",
   "name": "python2"
  },
  "language_info": {
   "codemirror_mode": {
    "name": "ipython",
    "version": 2
   },
   "file_extension": ".py",
   "mimetype": "text/x-python",
   "name": "python",
   "nbconvert_exporter": "python",
   "pygments_lexer": "ipython2",
   "version": "2.7.9"
  }
 },
 "nbformat": 4,
 "nbformat_minor": 0
}
