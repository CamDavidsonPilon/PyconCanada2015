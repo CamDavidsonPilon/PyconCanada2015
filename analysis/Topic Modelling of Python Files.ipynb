{
 "cells": [
  {
   "cell_type": "code",
   "execution_count": 49,
   "metadata": {
    "collapsed": true
   },
   "outputs": [],
   "source": [
    "import logging\n",
    "import re\n",
    "import os\n",
    "import gensim\n",
    "from gensim import corpora, models, similarities\n",
    "logging.basicConfig(format='%(asctime)s : %(levelname)s : %(message)s', level=logging.INFO)"
   ]
  },
  {
   "cell_type": "code",
   "execution_count": 2,
   "metadata": {
    "collapsed": true
   },
   "outputs": [],
   "source": []
  },
  {
   "cell_type": "code",
   "execution_count": 80,
   "metadata": {
    "collapsed": false
   },
   "outputs": [],
   "source": [
    "CAMELCASE_TO_UNDERSCORE_RE = re.compile('((?<=[a-z0-9])[A-Z]|(?!^)[A-Z](?=[a-z]))')\n",
    "dictionary = corpora.dictionary.Dictionary()\n",
    "\n",
    "\n",
    "class CodeWalker(object):\n",
    "    \n",
    "    stop_words = ['self', 'def', 'if', 'get', 'return', 'is', 'name', 'id', 'none', 'in', 'type', 'import', 'not', 'from', 'data', 'set', 'for', 'value', 'vehicle', 's', 'list', 'the', 'error', 'on', 'and', 'to', 'gui', 'else', 'key', 'letter', 'item', 'text', 'info', 'class', 'path', 'a', 'init', 'event', 'false', 'config', 'true', 'time', 'file', 'latin', 'view', 'result', 'settings', 'g', 'state', 'fort']\n",
    "    \n",
    "    def convert_camel_case_to_underscore(self, word):\n",
    "        return CAMELCASE_TO_UNDERSCORE_RE.sub(r'_\\1', word).lower()\n",
    "\n",
    "    def clean_and_split_codewords(self, word):\n",
    "        \"\"\"\n",
    "        HTTPResonse => http, response\n",
    "        aNewWorld => a, new, world\n",
    "        a_new_world => a, new, world\n",
    "\n",
    "        \"\"\"\n",
    "        for subword in self.convert_camel_case_to_underscore(word).split('_'):\n",
    "            if subword and len(subword) > 1 \\\n",
    "              and subword not in self.stop_words:\n",
    "                yield subword\n",
    "    \n",
    "\n",
    "    def __iter__(self):\n",
    "        for root, dirs, files in os.walk('/Users/camerondavidson-pilon/code/PyconCanada2015/scrapers/'):\n",
    "            for file in files:\n",
    "                if file.endswith('.py'):\n",
    "                    with open(os.path.join(root, file), 'r') as open_file:\n",
    "                        lines = open_file.read()\n",
    "                        for raw_word in re.findall('(\\w+)', lines):\n",
    "                            for clean_words in self.clean_and_split_codewords(raw_word):\n",
    "                                yield clean_words\n",
    "                    \n",
    "   \n",
    "\n",
    "    def iter_dictionaries(self):\n",
    "        for root, dirs, files in os.walk('/Users/camerondavidson-pilon/code/PyconCanada2015/scrapers/'):\n",
    "            for file in files:\n",
    "                if file.endswith('.py'):\n",
    "                    with open(os.path.join(root, file), 'r') as open_file:\n",
    "                        lines = open_file.read()\n",
    "                        result = []\n",
    "                        for raw_word in re.findall('(\\w+)', lines):\n",
    "                            for clean_words in self.clean_and_split_codewords(raw_word):\n",
    "                                result.append(clean_words)\n",
    "                    yield dictionary.doc2bow(result, allow_update=True)"
   ]
  },
  {
   "cell_type": "code",
   "execution_count": 81,
   "metadata": {
    "collapsed": false
   },
   "outputs": [
    {
     "ename": "KeyboardInterrupt",
     "evalue": "",
     "output_type": "error",
     "traceback": [
      "\u001b[0;31m---------------------------------------------------------------------------\u001b[0m",
      "\u001b[0;31mKeyboardInterrupt\u001b[0m                         Traceback (most recent call last)",
      "\u001b[0;32m<ipython-input-81-50714549b6f7>\u001b[0m in \u001b[0;36m<module>\u001b[0;34m()\u001b[0m\n\u001b[1;32m      2\u001b[0m \u001b[0mcounter\u001b[0m \u001b[0;34m=\u001b[0m \u001b[0mCounter\u001b[0m\u001b[0;34m(\u001b[0m\u001b[0;34m)\u001b[0m\u001b[0;34m\u001b[0m\u001b[0m\n\u001b[1;32m      3\u001b[0m \u001b[0;32mfor\u001b[0m \u001b[0m_\u001b[0m \u001b[0;32min\u001b[0m \u001b[0mCodeWalker\u001b[0m\u001b[0;34m(\u001b[0m\u001b[0;34m)\u001b[0m\u001b[0;34m:\u001b[0m\u001b[0;34m\u001b[0m\u001b[0m\n\u001b[0;32m----> 4\u001b[0;31m     \u001b[0mcounter\u001b[0m\u001b[0;34m.\u001b[0m\u001b[0mupdate\u001b[0m\u001b[0;34m(\u001b[0m\u001b[0;34m[\u001b[0m\u001b[0m_\u001b[0m\u001b[0;34m]\u001b[0m\u001b[0;34m)\u001b[0m\u001b[0;34m\u001b[0m\u001b[0m\n\u001b[0m",
      "\u001b[0;32m/usr/local/Cellar/python/2.7.9/Frameworks/Python.framework/Versions/2.7/lib/python2.7/collections.pyc\u001b[0m in \u001b[0;36mupdate\u001b[0;34m(self, iterable, **kwds)\u001b[0m\n\u001b[1;32m    523\u001b[0m \u001b[0;34m\u001b[0m\u001b[0m\n\u001b[1;32m    524\u001b[0m         \u001b[0;32mif\u001b[0m \u001b[0miterable\u001b[0m \u001b[0;32mis\u001b[0m \u001b[0;32mnot\u001b[0m \u001b[0mNone\u001b[0m\u001b[0;34m:\u001b[0m\u001b[0;34m\u001b[0m\u001b[0m\n\u001b[0;32m--> 525\u001b[0;31m             \u001b[0;32mif\u001b[0m \u001b[0misinstance\u001b[0m\u001b[0;34m(\u001b[0m\u001b[0miterable\u001b[0m\u001b[0;34m,\u001b[0m \u001b[0mMapping\u001b[0m\u001b[0;34m)\u001b[0m\u001b[0;34m:\u001b[0m\u001b[0;34m\u001b[0m\u001b[0m\n\u001b[0m\u001b[1;32m    526\u001b[0m                 \u001b[0;32mif\u001b[0m \u001b[0mself\u001b[0m\u001b[0;34m:\u001b[0m\u001b[0;34m\u001b[0m\u001b[0m\n\u001b[1;32m    527\u001b[0m                     \u001b[0mself_get\u001b[0m \u001b[0;34m=\u001b[0m \u001b[0mself\u001b[0m\u001b[0;34m.\u001b[0m\u001b[0mget\u001b[0m\u001b[0;34m\u001b[0m\u001b[0m\n",
      "\u001b[0;32m/Users/camerondavidson-pilon/.virtualenvs/data/lib/python2.7/abc.pyc\u001b[0m in \u001b[0;36m__instancecheck__\u001b[0;34m(cls, instance)\u001b[0m\n\u001b[1;32m    130\u001b[0m         \u001b[0;31m# Inline the cache checking when it's simple.\u001b[0m\u001b[0;34m\u001b[0m\u001b[0;34m\u001b[0m\u001b[0m\n\u001b[1;32m    131\u001b[0m         \u001b[0msubclass\u001b[0m \u001b[0;34m=\u001b[0m \u001b[0mgetattr\u001b[0m\u001b[0;34m(\u001b[0m\u001b[0minstance\u001b[0m\u001b[0;34m,\u001b[0m \u001b[0;34m'__class__'\u001b[0m\u001b[0;34m,\u001b[0m \u001b[0mNone\u001b[0m\u001b[0;34m)\u001b[0m\u001b[0;34m\u001b[0m\u001b[0m\n\u001b[0;32m--> 132\u001b[0;31m         \u001b[0;32mif\u001b[0m \u001b[0msubclass\u001b[0m \u001b[0;32mis\u001b[0m \u001b[0;32mnot\u001b[0m \u001b[0mNone\u001b[0m \u001b[0;32mand\u001b[0m \u001b[0msubclass\u001b[0m \u001b[0;32min\u001b[0m \u001b[0mcls\u001b[0m\u001b[0;34m.\u001b[0m\u001b[0m_abc_cache\u001b[0m\u001b[0;34m:\u001b[0m\u001b[0;34m\u001b[0m\u001b[0m\n\u001b[0m\u001b[1;32m    133\u001b[0m             \u001b[0;32mreturn\u001b[0m \u001b[0mTrue\u001b[0m\u001b[0;34m\u001b[0m\u001b[0m\n\u001b[1;32m    134\u001b[0m         \u001b[0msubtype\u001b[0m \u001b[0;34m=\u001b[0m \u001b[0mtype\u001b[0m\u001b[0;34m(\u001b[0m\u001b[0minstance\u001b[0m\u001b[0;34m)\u001b[0m\u001b[0;34m\u001b[0m\u001b[0m\n",
      "\u001b[0;32m/Users/camerondavidson-pilon/.virtualenvs/data/lib/python2.7/_weakrefset.pyc\u001b[0m in \u001b[0;36m__contains__\u001b[0;34m(self, item)\u001b[0m\n\u001b[1;32m     70\u001b[0m     \u001b[0;32mdef\u001b[0m \u001b[0m__contains__\u001b[0m\u001b[0;34m(\u001b[0m\u001b[0mself\u001b[0m\u001b[0;34m,\u001b[0m \u001b[0mitem\u001b[0m\u001b[0;34m)\u001b[0m\u001b[0;34m:\u001b[0m\u001b[0;34m\u001b[0m\u001b[0m\n\u001b[1;32m     71\u001b[0m         \u001b[0;32mtry\u001b[0m\u001b[0;34m:\u001b[0m\u001b[0;34m\u001b[0m\u001b[0m\n\u001b[0;32m---> 72\u001b[0;31m             \u001b[0mwr\u001b[0m \u001b[0;34m=\u001b[0m \u001b[0mref\u001b[0m\u001b[0;34m(\u001b[0m\u001b[0mitem\u001b[0m\u001b[0;34m)\u001b[0m\u001b[0;34m\u001b[0m\u001b[0m\n\u001b[0m\u001b[1;32m     73\u001b[0m         \u001b[0;32mexcept\u001b[0m \u001b[0mTypeError\u001b[0m\u001b[0;34m:\u001b[0m\u001b[0;34m\u001b[0m\u001b[0m\n\u001b[1;32m     74\u001b[0m             \u001b[0;32mreturn\u001b[0m \u001b[0mFalse\u001b[0m\u001b[0;34m\u001b[0m\u001b[0m\n",
      "\u001b[0;31mKeyboardInterrupt\u001b[0m: "
     ]
    }
   ],
   "source": [
    "from collections import Counter\n",
    "counter = Counter()\n",
    "for _ in CodeWalker():\n",
    "    counter.update([_])"
   ]
  },
  {
   "cell_type": "code",
   "execution_count": 70,
   "metadata": {
    "collapsed": false
   },
   "outputs": [
    {
     "name": "stdout",
     "output_type": "stream",
     "text": [
      "['self', 'def', 'if', 'get', 'return', 'is', 'name', 'id', 'none', 'in', 'type', 'import', 'not', 'from', 'data', 'set', 'for', 'value', 'vehicle', 's', 'list', 'the', 'error', 'on', 'and', 'to', 'gui', 'else', 'key', 'letter', 'item', 'text', 'info', 'class', 'path', 'a', 'init', 'event', 'false', 'config', 'true', 'time', 'file', 'latin', 'view', 'result', 'settings', 'g', 'state', 'fort']\n"
     ]
    }
   ],
   "source": [
    "print map(lambda r: r[0], counter.most_common(50))"
   ]
  },
  {
   "cell_type": "code",
   "execution_count": null,
   "metadata": {
    "collapsed": true
   },
   "outputs": [],
   "source": []
  },
  {
   "cell_type": "code",
   "execution_count": 82,
   "metadata": {
    "collapsed": false
   },
   "outputs": [],
   "source": [
    "cw = CodeWalker()\n",
    "matrix = [_ for _ in cw.iter_dictionaries()]"
   ]
  },
  {
   "cell_type": "code",
   "execution_count": 83,
   "metadata": {
    "collapsed": false
   },
   "outputs": [
    {
     "data": {
      "text/plain": [
       "3374"
      ]
     },
     "execution_count": 83,
     "metadata": {},
     "output_type": "execute_result"
    }
   ],
   "source": [
    "len(matrix)"
   ]
  },
  {
   "cell_type": "code",
   "execution_count": 84,
   "metadata": {
    "collapsed": true
   },
   "outputs": [],
   "source": [
    "corpora.MmCorpus.serialize('../scrapers/data/test_corpus.mm', matrix)"
   ]
  },
  {
   "cell_type": "code",
   "execution_count": 85,
   "metadata": {
    "collapsed": false
   },
   "outputs": [],
   "source": [
    "mm = corpora.MmCorpus('../scrapers/data/test_corpus.mm')"
   ]
  },
  {
   "cell_type": "code",
   "execution_count": 86,
   "metadata": {
    "collapsed": false
   },
   "outputs": [
    {
     "name": "stdout",
     "output_type": "stream",
     "text": [
      "MmCorpus(3374 documents, 45452 features, 460630 non-zero entries)\n"
     ]
    }
   ],
   "source": [
    "print mm"
   ]
  },
  {
   "cell_type": "code",
   "execution_count": null,
   "metadata": {
    "collapsed": true
   },
   "outputs": [],
   "source": []
  },
  {
   "cell_type": "code",
   "execution_count": 95,
   "metadata": {
    "collapsed": false
   },
   "outputs": [
    {
     "name": "stderr",
     "output_type": "stream",
     "text": [
      "WARNING:gensim.models.ldamodel:too few updates, training might not converge; consider increasing the number of passes or iterations to improve accuracy\n"
     ]
    }
   ],
   "source": [
    "lda = gensim.models.ldamodel.LdaModel(corpus=mm, id2word=dictionary, num_topics=60, update_every=1, chunksize=10000, passes=6)"
   ]
  },
  {
   "cell_type": "code",
   "execution_count": null,
   "metadata": {
    "collapsed": false
   },
   "outputs": [],
   "source": []
  },
  {
   "cell_type": "code",
   "execution_count": 97,
   "metadata": {
    "collapsed": false
   },
   "outputs": [
    {
     "data": {
      "text/plain": [
       "[u'0.025*messenger + 0.025*iso8859 + 0.019*token + 0.011*arena + 0.011*contacts + 0.008*append + 0.008*current + 0.008*queue + 0.008*service + 0.007*servicechannelmessages',\n",
       " u'0.048*effect + 0.019*trigger + 0.017*chapter + 0.016*var + 0.014*section + 0.014*x0 + 0.013*flag + 0.013*target + 0.010*os + 0.010*conditions',\n",
       " u'0.042*fortifications + 0.014*building + 0.013*window + 0.012*shot + 0.011*turret + 0.010*clan + 0.010*buildings + 0.010*point + 0.010*matrix + 0.009*player',\n",
       " u'0.064*header + 0.054*tooltips + 0.041*body + 0.038*fortification + 0.017*battle + 0.016*tooltip + 0.012*cybersport + 0.010*common + 0.010*btn + 0.010*status',\n",
       " u'0.032*unit + 0.025*ctx + 0.020*battle + 0.020*request + 0.019*callback + 0.017*player + 0.014*clan + 0.011*cache + 0.011*building + 0.009*idx',\n",
       " u'0.022*items + 0.020*price + 0.016*xp + 0.015*make + 0.014*tankman + 0.013*credits + 0.013*cost + 0.013*veh + 0.013*string + 0.012*gold',\n",
       " u'0.065*filter + 0.018*filters + 0.016*length + 0.012*codec + 0.012*ctrl + 0.011*iso8859 + 0.009*out + 0.008*max + 0.007*clan + 0.007*iso',\n",
       " u'0.016*lines + 0.016*fsf + 0.015*out + 0.013*000 + 0.012*width + 0.012*cmds + 0.012*ui + 0.011*tab + 0.011*char + 0.011*line',\n",
       " u'0.025*timer + 0.016*frontend + 0.015*dvb + 0.014*service + 0.010*entry + 0.010*scan + 0.009*parameters + 0.009*append + 0.009*sat + 0.008*session',\n",
       " u'0.022*model + 0.021*desc + 0.012*effect + 0.011*world + 0.010*turret + 0.010*effects + 0.010*math + 0.009*elem + 0.009*cfg + 0.009*start',\n",
       " u'0.014*prober + 0.013*char + 0.012*post + 0.011*user + 0.011*group + 0.009*by + 0.009*make + 0.008*storage + 0.008*achieve + 0.008*relation',\n",
       " u'0.050*messages + 0.046*system + 0.044*errors + 0.026*request + 0.022*fortification + 0.016*server + 0.013*unit + 0.013*success + 0.012*clubs + 0.011*arena',\n",
       " u'0.022*position + 0.014*menu + 0.013*session + 0.013*size + 0.012*screen + 0.011*append + 0.010*title + 0.009*label + 0.009*open + 0.009*box',\n",
       " u'0.027*char + 0.016*table + 0.014*token + 0.014*order + 0.010*language + 0.009*distribution + 0.008*first + 0.008*person + 0.008*code + 0.007*test',\n",
       " u'0.072*page + 0.038*language + 0.029*assert + 0.022*content + 0.021*codes + 0.020*pages + 0.018*equal + 0.014*test + 0.014*template + 0.012*slug',\n",
       " u'0.034*greek + 0.015*thai + 0.013*of + 0.011*small + 0.011*capital + 0.010*tonos + 0.009*0x + 0.009*with + 0.007*character + 0.007*admission',\n",
       " u'0.038*tag + 0.030*token + 0.025*customization + 0.024*element + 0.023*inscription + 0.016*tree + 0.016*end + 0.014*parser + 0.014*start + 0.013*node',\n",
       " u'0.031*tutorial + 0.019*window + 0.014*battle + 0.012*alias + 0.010*aliases + 0.009*fortification + 0.009*chunk + 0.009*task + 0.009*log + 0.008*mode',\n",
       " u'0.099*qt + 0.061*brush + 0.053*palette + 0.028*atd + 0.019*core + 0.017*button + 0.014*255 + 0.014*utf8 + 0.013*style + 0.012*color',\n",
       " u'0.030*descr + 0.015*oth + 0.014*60 + 0.012*booster + 0.011*format + 0.011*device + 0.010*elif + 0.010*length + 0.009*vehicles + 0.009*prop',\n",
       " u'0.022*entry + 0.013*session + 0.013*screen + 0.012*plugin + 0.012*pixmap + 0.011*position + 0.011*network + 0.010*size + 0.010*append + 0.010*plugins',\n",
       " u'0.019*test + 0.012*module + 0.012*of + 0.010*python + 0.009*be + 0.008*field + 0.008*or + 0.008*raise + 0.007*that + 0.007*dict',\n",
       " u'0.018*attrs + 0.013*http + 0.010*handler + 0.010*moved + 0.008*attribute + 0.008*urllib + 0.008*string + 0.008*encoding + 0.007*attr + 0.007*or',\n",
       " u'0.021*os + 0.017*of + 0.013*or + 0.013*this + 0.011*sys + 0.010*version + 0.010*default + 0.008*scan + 0.007*python + 0.007*be',\n",
       " u'0.050*channel + 0.035*chat + 0.028*messenger + 0.023*action + 0.021*controller + 0.019*message + 0.016*proto + 0.015*command + 0.013*battle + 0.012*client',\n",
       " u'0.028*user + 0.018*contact + 0.018*client + 0.017*jid + 0.015*xmpp + 0.012*tokens + 0.012*contacts + 0.012*messenger + 0.011*roster + 0.011*group',\n",
       " u'0.019*storage + 0.019*cocaine + 0.018*ui + 0.012*execute + 0.011*app + 0.011*group + 0.011*yield + 0.011*manifest + 0.011*log + 0.011*tools',\n",
       " u'0.048*quests + 0.033*details + 0.024*quest + 0.016*conditions + 0.013*bonus + 0.011*dossier + 0.010*potapov + 0.009*tile + 0.009*format + 0.009*field',\n",
       " u'0.023*condition + 0.021*browser + 0.019*entry + 0.011*keys + 0.010*url + 0.008*index + 0.007*achievements + 0.007*current + 0.007*control + 0.007*descr',\n",
       " u'0.035*url + 0.019*response + 0.011*request + 0.010*version + 0.010*http + 0.009*of + 0.008*index + 0.007*this + 0.007*base + 0.007*be',\n",
       " u'0.047*253 + 0.047*255 + 0.014*252 + 0.007*dist + 0.006*10 + 0.006*impulse + 0.006*cfg + 0.006*keyids + 0.006*float + 0.005*oscillator',\n",
       " u'0.044*prb + 0.031*prebattle + 0.024*ctx + 0.022*window + 0.021*scope + 0.018*team + 0.016*functional + 0.015*player + 0.014*update + 0.013*invites',\n",
       " u'0.020*cmd + 0.018*log + 0.018*dir + 0.014*os + 0.014*print + 0.011*test + 0.010*app + 0.009*pm + 0.008*command + 0.008*url',\n",
       " u'0.070*inscription + 0.043*rev + 0.038*emblem + 0.032*cn + 0.029*customization + 0.014*chinese + 0.013*china + 0.012*group0 + 0.010*pngname + 0.009*url',\n",
       " u'0.074*profile + 0.043*tooltip + 0.038*section + 0.027*points + 0.024*params + 0.021*statistics + 0.014*header + 0.014*left + 0.013*right + 0.013*technique',\n",
       " u'0.071*section + 0.067*xml + 0.047*read + 0.041*ctx + 0.020*descr + 0.014*res + 0.014*subsection + 0.012*string + 0.011*raise + 0.009*nation',\n",
       " u'0.045*arabic + 0.024*descr + 0.016*form + 0.015*descriptor + 0.012*left + 0.011*inventory + 0.010*compact + 0.010*inv + 0.010*price + 0.010*right',\n",
       " u'0.015*version + 0.014*html + 0.014*form + 0.012*print + 0.010*title + 0.009*abc + 0.009*friends + 0.008*timer + 0.008*howmany + 0.008*re',\n",
       " u'0.071*icons + 0.071*maps + 0.031*png + 0.027*library + 0.014*cybersport + 0.011*resource + 0.008*dist + 0.008*buttons + 0.008*ladder + 0.007*os',\n",
       " u'0.074*0x + 0.043*small + 0.041*capital + 0.033*with + 0.020*control + 0.014*all + 0.014*sign + 0.010*table + 0.009*codecs + 0.009*character',\n",
       " u'0.026*cd + 0.025*items + 0.020*callback + 0.016*module + 0.015*cache + 0.014*node + 0.014*price + 0.013*int + 0.012*unlock + 0.011*inventory',\n",
       " u'0.048*widget + 0.047*qt + 0.026*layout + 0.017*utf8 + 0.016*button + 0.014*push + 0.013*object + 0.012*vertical + 0.012*box + 0.012*add',\n",
       " u'0.038*unit + 0.027*window + 0.021*dialogs + 0.017*sport + 0.017*cyber + 0.016*title + 0.015*message + 0.013*vo + 0.013*slot + 0.013*player',\n",
       " u'0.010*url + 0.009*of + 0.008*str + 0.007*len + 0.007*content + 0.007*or + 0.007*string + 0.007*pattern + 0.007*pos + 0.007*headers',\n",
       " u'0.048*small + 0.041*capital + 0.034*with + 0.029*box + 0.029*drawings + 0.021*double + 0.014*right + 0.014*left + 0.013*sign + 0.013*cyrillic',\n",
       " u'0.060*club + 0.021*manager + 0.015*invite + 0.014*clubs + 0.012*db + 0.010*callback + 0.010*client + 0.010*user + 0.009*clan + 0.009*account',\n",
       " u'0.028*codecs + 0.028*stream + 0.025*codec + 0.020*decode + 0.020*input + 0.019*encode + 0.017*incremental + 0.017*errors + 0.016*os + 0.012*reader',\n",
       " u'0.001*of + 0.001*license + 0.001*512 + 0.000*code + 0.000*distribution + 0.000*callback + 0.000*or + 0.000*uni + 0.000*free + 0.000*it',\n",
       " u'0.111*menu + 0.016*login + 0.015*header + 0.014*params + 0.012*admin + 0.011*status + 0.011*tank + 0.010*shop + 0.009*title + 0.009*window',\n",
       " u'0.026*ingame + 0.018*messages + 0.017*version + 0.015*player + 0.013*options + 0.013*death + 0.010*ally + 0.009*enemy + 0.009*of + 0.008*at',\n",
       " u'0.018*nim + 0.015*achievement + 0.014*progress + 0.014*slot + 0.012*lnb + 0.011*default + 0.009*level + 0.009*sec + 0.009*option + 0.008*diseqc',\n",
       " u'0.033*building + 0.028*order + 0.021*utils + 0.017*make + 0.015*scaleform + 0.015*fortifications + 0.014*i18n + 0.013*count + 0.012*level + 0.012*string',\n",
       " u'0.037*message + 0.019*channel + 0.016*log + 0.014*formatter + 0.013*format + 0.013*voip + 0.012*client + 0.011*msg + 0.009*world + 0.009*big',\n",
       " u'0.048*dossier + 0.043*medal + 0.029*descr + 0.028*achievements + 0.021*block + 0.020*max + 0.018*record + 0.018*battles + 0.016*4000000001 + 0.015*clan',\n",
       " u'0.047*login + 0.014*queue + 0.010*captcha + 0.010*mgr + 0.008*line + 0.008*write + 0.007*string + 0.007*social + 0.007*status + 0.007*auto',\n",
       " u'0.031*service + 0.011*current + 0.009*install + 0.009*session + 0.009*os + 0.008*dir + 0.008*or + 0.007*ref + 0.007*timer + 0.007*bar',\n",
       " u'0.040*daapi + 0.038*as + 0.030*meta + 0.023*scaleform + 0.020*flash + 0.019*object + 0.016*inited + 0.016*module + 0.015*print + 0.013*override',\n",
       " u'0.019*size + 0.015*skin + 0.015*append + 0.013*font + 0.013*pixmap + 0.012*entry + 0.011*png + 0.011*position + 0.010*content + 0.009*pos',\n",
       " u'0.017*point + 0.016*pos + 0.016*aim + 0.015*position + 0.014*camera + 0.014*world + 0.013*big + 0.012*ctrl + 0.012*mode + 0.011*trigger',\n",
       " u'0.019*sound + 0.016*mode + 0.015*setting + 0.015*world + 0.014*big + 0.012*player + 0.008*manager + 0.008*command + 0.007*core + 0.007*cmd']"
      ]
     },
     "execution_count": 97,
     "metadata": {},
     "output_type": "execute_result"
    }
   ],
   "source": [
    "lda.print_topics(60)"
   ]
  },
  {
   "cell_type": "code",
   "execution_count": null,
   "metadata": {
    "collapsed": false
   },
   "outputs": [],
   "source": []
  },
  {
   "cell_type": "code",
   "execution_count": null,
   "metadata": {
    "collapsed": true
   },
   "outputs": [],
   "source": []
  }
 ],
 "metadata": {
  "kernelspec": {
   "display_name": "Python 2",
   "language": "python",
   "name": "python2"
  },
  "language_info": {
   "codemirror_mode": {
    "name": "ipython",
    "version": 2
   },
   "file_extension": ".py",
   "mimetype": "text/x-python",
   "name": "python",
   "nbconvert_exporter": "python",
   "pygments_lexer": "ipython2",
   "version": "2.7.9"
  }
 },
 "nbformat": 4,
 "nbformat_minor": 0
}
