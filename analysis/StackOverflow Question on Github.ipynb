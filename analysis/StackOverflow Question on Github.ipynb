{
 "cells": [
  {
   "cell_type": "code",
   "execution_count": 1,
   "metadata": {
    "collapsed": true
   },
   "outputs": [],
   "source": [
    "import pandas as pd"
   ]
  },
  {
   "cell_type": "code",
   "execution_count": 7,
   "metadata": {
    "collapsed": false
   },
   "outputs": [],
   "source": [
    "df = pd.read_csv('../scrapers/data/github_stackover_flow_questions.csv', \n",
    "                 names=['repo', 'file', 'url'])"
   ]
  },
  {
   "cell_type": "code",
   "execution_count": 8,
   "metadata": {
    "collapsed": false
   },
   "outputs": [
    {
     "name": "stdout",
     "output_type": "stream",
     "text": [
      "(9435, 3)\n",
      "(2322, 3)\n"
     ]
    }
   ],
   "source": [
    "print df.shape\n",
    "df = df.drop_duplicates()\n",
    "print df.shape"
   ]
  },
  {
   "cell_type": "code",
   "execution_count": 11,
   "metadata": {
    "collapsed": false
   },
   "outputs": [
    {
     "data": {
      "text/plain": [
       "stackoverflow.com/questions/279237      278\n",
       "stackoverflow.com/questions/19622133    162\n",
       "stackoverflow.com/questions/5658622      46\n",
       "stackoverflow.com/questions/701802       21\n",
       "stackoverflow.com/questions/35817        18\n",
       "stackoverflow.com/questions/22019341     15\n",
       "stackoverflow.com/questions/377017       15\n",
       "stackoverflow.com/questions/2892931      14\n",
       "stackoverflow.com/questions/4124220      13\n",
       "stackoverflow.com/questions/1208916      12\n",
       "dtype: int64"
      ]
     },
     "execution_count": 11,
     "metadata": {},
     "output_type": "execute_result"
    }
   ],
   "source": [
    "df['url'].value_counts()[:10]"
   ]
  },
  {
   "cell_type": "markdown",
   "metadata": {},
   "source": [
    "That second on is https://github.com/vineel2014/synergy/blob/39e2a4e5dd6855ad00117d50262cf31c03783ef9/myenv/Lib/site-packages/setuptools/windows_support.py\n",
    "\n",
    "Clearly lots of copypasta this file. Let's dedupe on file name"
   ]
  },
  {
   "cell_type": "code",
   "execution_count": 14,
   "metadata": {
    "collapsed": false
   },
   "outputs": [],
   "source": [
    "file_url = df[['file', 'url']].drop_duplicates()"
   ]
  },
  {
   "cell_type": "code",
   "execution_count": 16,
   "metadata": {
    "collapsed": false
   },
   "outputs": [
    {
     "data": {
      "text/plain": [
       "stackoverflow.com/questions/279237      93\n",
       "stackoverflow.com/questions/701802      21\n",
       "stackoverflow.com/questions/377017      13\n",
       "stackoverflow.com/questions/566746      10\n",
       "stackoverflow.com/questions/263890       9\n",
       "stackoverflow.com/questions/8134444      9\n",
       "stackoverflow.com/questions/600268       9\n",
       "stackoverflow.com/questions/4913349      7\n",
       "stackoverflow.com/questions/9662995      7\n",
       "stackoverflow.com/questions/36932        6\n",
       "stackoverflow.com/questions/1094841      6\n",
       "stackoverflow.com/questions/1208916      5\n",
       "stackoverflow.com/questions/312443       5\n",
       "stackoverflow.com/questions/1175208      5\n",
       "stackoverflow.com/questions/2257441      5\n",
       "stackoverflow.com/questions/6760685      5\n",
       "stackoverflow.com/questions/265960       4\n",
       "stackoverflow.com/questions/287871       4\n",
       "stackoverflow.com/questions/13124961     4\n",
       "stackoverflow.com/questions/952914       4\n",
       "stackoverflow.com/questions/1823058      4\n",
       "stackoverflow.com/questions/11495783     3\n",
       "stackoverflow.com/questions/39086        3\n",
       "stackoverflow.com/questions/4836710      3\n",
       "stackoverflow.com/questions/517923       3\n",
       "stackoverflow.com/questions/136168       3\n",
       "stackoverflow.com/questions/12090503     3\n",
       "stackoverflow.com/questions/35817        3\n",
       "stackoverflow.com/questions/1191374      3\n",
       "stackoverflow.com/questions/878972       3\n",
       "stackoverflow.com/questions/8231877      3\n",
       "stackoverflow.com/questions/273192       3\n",
       "stackoverflow.com/questions/8508112      3\n",
       "stackoverflow.com/questions/613183       3\n",
       "stackoverflow.com/questions/12303478     3\n",
       "stackoverflow.com/questions/791561       3\n",
       "stackoverflow.com/questions/2158395      3\n",
       "stackoverflow.com/questions/295135       3\n",
       "stackoverflow.com/questions/3679694      3\n",
       "stackoverflow.com/questions/7327689      3\n",
       "stackoverflow.com/questions/3584243      3\n",
       "stackoverflow.com/questions/2186525      3\n",
       "stackoverflow.com/questions/1208118      3\n",
       "stackoverflow.com/questions/4494404      3\n",
       "stackoverflow.com/questions/73663        3\n",
       "stackoverflow.com/questions/16970982     3\n",
       "stackoverflow.com/questions/82831        3\n",
       "stackoverflow.com/questions/7204805      3\n",
       "stackoverflow.com/questions/2532053      3\n",
       "stackoverflow.com/questions/5884066      3\n",
       "stackoverflow.com/questions/2892931      3\n",
       "stackoverflow.com/questions/5661968      3\n",
       "stackoverflow.com/questions/2719038      3\n",
       "stackoverflow.com/questions/4984647      3\n",
       "stackoverflow.com/questions/7243750      2\n",
       "stackoverflow.com/questions/21458387     2\n",
       "stackoverflow.com/questions/7768027      2\n",
       "stackoverflow.com/questions/28970883     2\n",
       "stackoverflow.com/questions/1855095      2\n",
       "stackoverflow.com/questions/16470903     2\n",
       "stackoverflow.com/questions/4126348      2\n",
       "stackoverflow.com/questions/5022066      2\n",
       "stackoverflow.com/questions/2134706      2\n",
       "stackoverflow.com/questions/15651128     2\n",
       "stackoverflow.com/questions/4303492      2\n",
       "stackoverflow.com/questions/3231543      2\n",
       "stackoverflow.com/questions/24423162     2\n",
       "stackoverflow.com/questions/956867       2\n",
       "stackoverflow.com/questions/458550       2\n",
       "stackoverflow.com/questions/2788871      2\n",
       "stackoverflow.com/questions/384076       2\n",
       "stackoverflow.com/questions/27623919     2\n",
       "stackoverflow.com/questions/8090229      2\n",
       "stackoverflow.com/questions/15822159     2\n",
       "stackoverflow.com/questions/5729500      2\n",
       "stackoverflow.com/questions/1889597      2\n",
       "stackoverflow.com/questions/12093364     2\n",
       "stackoverflow.com/questions/470690       2\n",
       "stackoverflow.com/questions/784404       2\n",
       "stackoverflow.com/questions/11351032     2\n",
       "stackoverflow.com/questions/2068372      2\n",
       "stackoverflow.com/questions/9647202      2\n",
       "stackoverflow.com/questions/19296146     2\n",
       "stackoverflow.com/questions/13101281     2\n",
       "stackoverflow.com/questions/5671354      2\n",
       "stackoverflow.com/questions/729583       2\n",
       "stackoverflow.com/questions/5390569      2\n",
       "stackoverflow.com/questions/67631        2\n",
       "stackoverflow.com/questions/986006       2\n",
       "stackoverflow.com/questions/1697815      2\n",
       "stackoverflow.com/questions/492483       2\n",
       "stackoverflow.com/questions/2819696      2\n",
       "stackoverflow.com/questions/3112546      2\n",
       "stackoverflow.com/questions/16259923     2\n",
       "stackoverflow.com/questions/20248555     2\n",
       "stackoverflow.com/questions/3173320      2\n",
       "stackoverflow.com/questions/9535954      2\n",
       "stackoverflow.com/questions/553303       2\n",
       "stackoverflow.com/questions/568271       2\n",
       "stackoverflow.com/questions/32899        2\n",
       "stackoverflow.com/questions/2276200      2\n",
       "stackoverflow.com/questions/938733       2\n",
       "stackoverflow.com/questions/9228202      2\n",
       "stackoverflow.com/questions/1816958      2\n",
       "stackoverflow.com/questions/3721249      2\n",
       "stackoverflow.com/questions/753052       2\n",
       "stackoverflow.com/questions/5705588      2\n",
       "stackoverflow.com/questions/972          2\n",
       "stackoverflow.com/questions/4364823      2\n",
       "stackoverflow.com/questions/2058802      2\n",
       "stackoverflow.com/questions/9765453      2\n",
       "stackoverflow.com/questions/11959719     2\n",
       "stackoverflow.com/questions/4363857      2\n",
       "stackoverflow.com/questions/5352546      2\n",
       "stackoverflow.com/questions/12435211     2\n",
       "stackoverflow.com/questions/12130883     2\n",
       "stackoverflow.com/questions/19057835     2\n",
       "stackoverflow.com/questions/480214       2\n",
       "stackoverflow.com/questions/3071415      2\n",
       "stackoverflow.com/questions/4296138      2\n",
       "                                        ..\n",
       "stackoverflow.com/questions/14854339     1\n",
       "stackoverflow.com/questions/31975303     1\n",
       "stackoverflow.com/questions/18871217     1\n",
       "stackoverflow.com/questions/11741574     1\n",
       "stackoverflow.com/questions/9401521      1\n",
       "stackoverflow.com/questions/1515809      1\n",
       "stackoverflow.com/questions/18271257     1\n",
       "stackoverflow.com/questions/174890       1\n",
       "stackoverflow.com/questions/8472299      1\n",
       "stackoverflow.com/questions/17388213     1\n",
       "stackoverflow.com/questions/9323834      1\n",
       "stackoverflow.com/questions/4902198      1\n",
       "stackoverflow.com/questions/7806563      1\n",
       "stackoverflow.com/questions/29717257     1\n",
       "stackoverflow.com/questions/11071579     1\n",
       "stackoverflow.com/questions/2798956      1\n",
       "stackoverflow.com/questions/4528347      1\n",
       "stackoverflow.com/questions/482014       1\n",
       "stackoverflow.com/questions/1956542      1\n",
       "stackoverflow.com/questions/333995       1\n",
       "stackoverflow.com/questions/19113532     1\n",
       "stackoverflow.com/questions/12772927     1\n",
       "stackoverflow.com/questions/24573892     1\n",
       "stackoverflow.com/questions/14144778     1\n",
       "stackoverflow.13124961                   1\n",
       "stackoverflow.com/questions/11522755     1\n",
       "stackoverflow.com/questions/5212037      1\n",
       "stackoverflow.com/questions/7127075      1\n",
       "stackoverflow.com/questions/4938723      1\n",
       "stackoverflow.com/questions/17193228     1\n",
       "stackoverflow.com/questions/18434920     1\n",
       "stackoverflow.com/questions/1375897      1\n",
       "stackoverflow.com/questions/13729638     1\n",
       "stackoverflow.com/questions/19877903     1\n",
       "stackoverflow.com/questions/13386681     1\n",
       "stackoverflow.com/questions/9959778      1\n",
       "stackoverflow.com/questions/5224835      1\n",
       "stackoverflow.com/questions/5137497      1\n",
       "stackoverflow.com/questions/2742813      1\n",
       "stackoverflow.com/questions/371753       1\n",
       "stackoverflow.com/questions/13148429     1\n",
       "stackoverflow.com/questions/22543354     1\n",
       "stackoverflow.com/questions/19149643     1\n",
       "stackoverflow.com/questions/139884       1\n",
       "stackoverflow.com/questions/16694907     1\n",
       "stackoverflow.com/questions/5228158      1\n",
       "stackoverflow.com/questions/12151306     1\n",
       "stackoverflow.com/questions/6516725      1\n",
       "stackoverflow.com/questions/12389665     1\n",
       "stackoverflow.com/questions/7583801      1\n",
       "stackoverflow.com/questions/2365411      1\n",
       "stackoverflow.com/questions/2887878      1\n",
       "stackoverflow.com/questions/9611139      1\n",
       "stackoverflow.com/questions/30917226     1\n",
       "stackoverflow.com/questions/6974695      1\n",
       "stackoverflow.com/questions/20137792     1\n",
       "stackoverflow.com/questions/9066777      1\n",
       "stackoverflow.com/questions/8112922      1\n",
       "stackoverflow.com/questions/15546273     1\n",
       "stackoverflow.com/questions/9845669      1\n",
       "stackoverflow.com/questions/6167127      1\n",
       "stackoverflow.com/questions/27464039     1\n",
       "stackoverflow.com/questions/6605006      1\n",
       "stackoverflow.com/questions/4038314      1\n",
       "stackoverflow.com/questions/4859217      1\n",
       "stackoverflow.com/questions/531157       1\n",
       "stackoverflow.com/questions/5210866      1\n",
       "stackoverflow.com/questions/20529187     1\n",
       "stackoverflow.com/questions/19625211     1\n",
       "stackoverflow.com/questions/23616803     1\n",
       "stackoverflow.com/questions/13125276     1\n",
       "stackoverflow.com/questions/2047622      1\n",
       "stackoverflow.com/questions/10017147     1\n",
       "stackoverflow.com/questions/18371457     1\n",
       "stackoverflow.com/questions/29578210     1\n",
       "stackoverflow.com/questions/100003       1\n",
       "stackoverflow.com/questions/16172011     1\n",
       "stackoverflow.com/questions/846850       1\n",
       "stackoverflow.com/questions/191359       1\n",
       "stackoverflow.com/questions/11401749     1\n",
       "stackoverflow.com/questions/16379300     1\n",
       "stackoverflow.com/questions/13837111     1\n",
       "stackoverflow.com/questions/17481672     1\n",
       "stackoverflow.com/questions/1730080      1\n",
       "stackoverflow.com/questions/3121186      1\n",
       "stackoverflow.com/questions/11687478     1\n",
       "stackoverflow.com/questions/16835449     1\n",
       "stackoverflow.com/questions/9457832      1\n",
       "stackoverflow.com/questions/15175142     1\n",
       "stackoverflow.com/questions/2425270      1\n",
       "stackoverflow.com/questions/303200       1\n",
       "stackoverflow.com/questions/25382455     1\n",
       "stackoverflow.com/questions/3713774      1\n",
       "stackoverflow.com/questions/24415294     1\n",
       "stackoverflow.com/questions/1988804      1\n",
       "stackoverflow.com/questions/8494200      1\n",
       "stackoverflow.com/questions/24130623     1\n",
       "stackoverflow.com/questions/12932607     1\n",
       "stackoverflow.com/questions/13866926     1\n",
       "stackoverflow.com/questions/25535975     1\n",
       "stackoverflow.com/questions/4043898      1\n",
       "stackoverflow.com/questions/7352684      1\n",
       "stackoverflow.com/questions/7154312      1\n",
       "stackoverflow.com/questions/3876886      1\n",
       "stackoverflow.com/questions/2406537      1\n",
       "stackoverflow.com/questions/1707890      1\n",
       "stackoverflow.com/questions/22744467     1\n",
       "stackoverflow.com/questions/677531       1\n",
       "stackoverflow.com/questions/7953904      1\n",
       "stackoverflow.com/questions/136097       1\n",
       "stackoverflow.com/questions/6422700      1\n",
       "stackoverflow.com/questions/10248796     1\n",
       "stackoverflow.com/questions/132058       1\n",
       "stackoverflow.com/questions/21654635     1\n",
       "stackoverflow.com/questions/6284227      1\n",
       "stackoverflow.com/questions/17973177     1\n",
       "stackoverflow.com/questions/2154249      1\n",
       "stackoverflow.com/questions/16224368     1\n",
       "stackoverflow.com/questions/2257958      1\n",
       "stackoverflow.com/questions/12141150     1\n",
       "dtype: int64"
      ]
     },
     "execution_count": 16,
     "metadata": {},
     "output_type": "execute_result"
    }
   ],
   "source": [
    "file_url['url'].value_counts()"
   ]
  },
  {
   "cell_type": "code",
   "execution_count": null,
   "metadata": {
    "collapsed": true
   },
   "outputs": [],
   "source": []
  }
 ],
 "metadata": {
  "kernelspec": {
   "display_name": "Python 2",
   "language": "python",
   "name": "python2"
  },
  "language_info": {
   "codemirror_mode": {
    "name": "ipython",
    "version": 2
   },
   "file_extension": ".py",
   "mimetype": "text/x-python",
   "name": "python",
   "nbconvert_exporter": "python",
   "pygments_lexer": "ipython2",
   "version": "2.7.9"
  }
 },
 "nbformat": 4,
 "nbformat_minor": 0
}
